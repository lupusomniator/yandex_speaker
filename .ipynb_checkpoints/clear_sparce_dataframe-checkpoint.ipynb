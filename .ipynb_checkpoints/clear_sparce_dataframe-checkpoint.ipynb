{
 "cells": [
  {
   "cell_type": "markdown",
   "metadata": {},
   "source": [
    "# YANDEX ML"
   ]
  },
  {
   "cell_type": "code",
   "execution_count": 6,
   "metadata": {},
   "outputs": [],
   "source": [
    "import pandas as pd\n",
    "import pymorphy2\n",
    "from  TextPreprocessing import TextPreprocessing\n",
    "import pickle\n",
    "from  profiler import Profiler"
   ]
  },
  {
   "cell_type": "code",
   "execution_count": 7,
   "metadata": {
    "collapsed": true
   },
   "outputs": [],
   "source": [
    "df = pd.read_csv('train.tsv',\n",
    "                         names=['context_id', 'context_2', 'context_1', 'context_0', 'reply_id', 'reply',\n",
    "                                'label', 'confidence'],\n",
    "                        header=None, sep='\\t')"
   ]
  },
  {
   "cell_type": "code",
   "execution_count": 8,
   "metadata": {
    "scrolled": true
   },
   "outputs": [
    {
     "data": {
      "text/html": [
       "<div>\n",
       "<style>\n",
       "    .dataframe thead tr:only-child th {\n",
       "        text-align: right;\n",
       "    }\n",
       "\n",
       "    .dataframe thead th {\n",
       "        text-align: left;\n",
       "    }\n",
       "\n",
       "    .dataframe tbody tr th {\n",
       "        vertical-align: top;\n",
       "    }\n",
       "</style>\n",
       "<table border=\"1\" class=\"dataframe\">\n",
       "  <thead>\n",
       "    <tr style=\"text-align: right;\">\n",
       "      <th></th>\n",
       "      <th>context_id</th>\n",
       "      <th>context_2</th>\n",
       "      <th>context_1</th>\n",
       "      <th>context_0</th>\n",
       "      <th>reply_id</th>\n",
       "      <th>reply</th>\n",
       "      <th>label</th>\n",
       "      <th>confidence</th>\n",
       "    </tr>\n",
       "  </thead>\n",
       "  <tbody>\n",
       "    <tr>\n",
       "      <th>0</th>\n",
       "      <td>22579918886</td>\n",
       "      <td>кликни на меня а потом на надпись \" видео - зв...</td>\n",
       "      <td>о , я тебя вижу .</td>\n",
       "      <td>ладно , повесь трубку .</td>\n",
       "      <td>0</td>\n",
       "      <td>не могу .</td>\n",
       "      <td>good</td>\n",
       "      <td>0.8753516175</td>\n",
       "    </tr>\n",
       "    <tr>\n",
       "      <th>1</th>\n",
       "      <td>22579918886</td>\n",
       "      <td>кликни на меня а потом на надпись \" видео - зв...</td>\n",
       "      <td>о , я тебя вижу .</td>\n",
       "      <td>ладно , повесь трубку .</td>\n",
       "      <td>1</td>\n",
       "      <td>нет , звонить буду я .</td>\n",
       "      <td>neutral</td>\n",
       "      <td>0.9009682113</td>\n",
       "    </tr>\n",
       "    <tr>\n",
       "      <th>2</th>\n",
       "      <td>22579918886</td>\n",
       "      <td>кликни на меня а потом на надпись \" видео - зв...</td>\n",
       "      <td>о , я тебя вижу .</td>\n",
       "      <td>ладно , повесь трубку .</td>\n",
       "      <td>2</td>\n",
       "      <td>слушай , я не мог уйти .</td>\n",
       "      <td>bad</td>\n",
       "      <td>0.8843202145</td>\n",
       "    </tr>\n",
       "    <tr>\n",
       "      <th>3</th>\n",
       "      <td>22579918886</td>\n",
       "      <td>кликни на меня а потом на надпись \" видео - зв...</td>\n",
       "      <td>о , я тебя вижу .</td>\n",
       "      <td>ладно , повесь трубку .</td>\n",
       "      <td>3</td>\n",
       "      <td>я не прекращу звонить .</td>\n",
       "      <td>good</td>\n",
       "      <td>0.9825304673</td>\n",
       "    </tr>\n",
       "    <tr>\n",
       "      <th>4</th>\n",
       "      <td>22579918886</td>\n",
       "      <td>кликни на меня а потом на надпись \" видео - зв...</td>\n",
       "      <td>о , я тебя вижу .</td>\n",
       "      <td>ладно , повесь трубку .</td>\n",
       "      <td>4</td>\n",
       "      <td>я звоню им .</td>\n",
       "      <td>good</td>\n",
       "      <td>0.8380535096</td>\n",
       "    </tr>\n",
       "  </tbody>\n",
       "</table>\n",
       "</div>"
      ],
      "text/plain": [
       "    context_id                                          context_2  \\\n",
       "0  22579918886  кликни на меня а потом на надпись \" видео - зв...   \n",
       "1  22579918886  кликни на меня а потом на надпись \" видео - зв...   \n",
       "2  22579918886  кликни на меня а потом на надпись \" видео - зв...   \n",
       "3  22579918886  кликни на меня а потом на надпись \" видео - зв...   \n",
       "4  22579918886  кликни на меня а потом на надпись \" видео - зв...   \n",
       "\n",
       "           context_1                context_0 reply_id  \\\n",
       "0  о , я тебя вижу .  ладно , повесь трубку .        0   \n",
       "1  о , я тебя вижу .  ладно , повесь трубку .        1   \n",
       "2  о , я тебя вижу .  ладно , повесь трубку .        2   \n",
       "3  о , я тебя вижу .  ладно , повесь трубку .        3   \n",
       "4  о , я тебя вижу .  ладно , повесь трубку .        4   \n",
       "\n",
       "                      reply    label    confidence  \n",
       "0                 не могу .     good  0.8753516175  \n",
       "1    нет , звонить буду я .  neutral  0.9009682113  \n",
       "2  слушай , я не мог уйти .      bad  0.8843202145  \n",
       "3   я не прекращу звонить .     good  0.9825304673  \n",
       "4              я звоню им .     good  0.8380535096  "
      ]
     },
     "execution_count": 8,
     "metadata": {},
     "output_type": "execute_result"
    }
   ],
   "source": [
    "\n",
    "df.head()\n"
   ]
  },
  {
   "cell_type": "code",
   "execution_count": 9,
   "metadata": {
    "collapsed": true
   },
   "outputs": [],
   "source": [
    "df_sparce = []\n",
    "col_name = ['context_0','context_1','context_2']\n",
    "cont_indexes = [\n",
    "    pd.isnull(df['context_2']) & pd.isnull(df['context_1']),\n",
    "    pd.isnull(df['context_2']) & pd.notnull(df['context_1']),\n",
    "    pd.notnull(df['context_2']) & pd.notnull(df['context_1'])\n",
    "]\n",
    "# Один контекст\n",
    "df_sparce.append(df[cont_indexes[0]])\n",
    "\n",
    "# Два контекста\n",
    "df_sparce.append(df[cont_indexes[1]])\n",
    "\n",
    "# Три контекста\n",
    "df_sparce.append(df[cont_indexes[2]])"
   ]
  },
  {
   "cell_type": "code",
   "execution_count": 10,
   "metadata": {},
   "outputs": [
    {
     "name": "stdout",
     "output_type": "stream",
     "text": [
      "\n"
     ]
    },
    {
     "name": "stderr",
     "output_type": "stream",
     "text": [
      "C:\\Users\\kilim\\Anaconda3\\lib\\site-packages\\ipykernel_launcher.py:20: SettingWithCopyWarning: \n",
      "A value is trying to be set on a copy of a slice from a DataFrame.\n",
      "Try using .loc[row_indexer,col_indexer] = value instead\n",
      "\n",
      "See the caveats in the documentation: http://pandas.pydata.org/pandas-docs/stable/indexing.html#indexing-view-versus-copy\n",
      "C:\\Users\\kilim\\Anaconda3\\lib\\site-packages\\ipykernel_launcher.py:23: SettingWithCopyWarning: \n",
      "A value is trying to be set on a copy of a slice from a DataFrame.\n",
      "Try using .loc[row_indexer,col_indexer] = value instead\n",
      "\n",
      "See the caveats in the documentation: http://pandas.pydata.org/pandas-docs/stable/indexing.html#indexing-view-versus-copy\n"
     ]
    },
    {
     "name": "stdout",
     "output_type": "stream",
     "text": [
      "Затраченное время: 199.90960144996643\n"
     ]
    }
   ],
   "source": [
    "tp = TextPreprocessing()\n",
    "col_amount = 0\n",
    "\n",
    "'''\n",
    "data_sparced - Список датафреймов\n",
    "len(data_sparced) = 3\n",
    "Каждый элемент списка - подвыборка исходного датафрейма\n",
    "data_sparced[0] - подвыбока, содержащая только один контекст\n",
    "data_sparced[1] - подвыбока, содержащая два контекста\n",
    "data_sparced[2] - подвыбока, содержащая три контекста\n",
    "'''\n",
    "data_sparced = []\n",
    "data_sparced_clear = []\n",
    "with Profiler():\n",
    "    for df_part in df_sparce:\n",
    "        data_sparced.append(df[cont_indexes[col_amount]])\n",
    "        data_sparced_clear.append(df[cont_indexes[col_amount]])\n",
    "        for i in range(col_amount+1):\n",
    "            prep_col = df_part[col_name[i]].map(tp.preprocess_sentence)\n",
    "            data_sparced[col_amount][col_name[i]] = prep_col\n",
    "            \n",
    "            prep_col_clear = df_part[col_name[i]].map(tp.preprocess_sentence)\n",
    "            data_sparced[col_amount][col_name[i]] = prep_col_clear\n",
    "        col_amount+=1"
   ]
  },
  {
   "cell_type": "code",
   "execution_count": null,
   "metadata": {},
   "outputs": [],
   "source": [
    "data_sparced[1].head()"
   ]
  },
  {
   "cell_type": "code",
   "execution_count": null,
   "metadata": {},
   "outputs": [],
   "source": [
    "data_sparced[1].head()"
   ]
  },
  {
   "cell_type": "code",
   "execution_count": null,
   "metadata": {},
   "outputs": [],
   "source": [
    "with Profiler():\n",
    "    with open(\"canonized_clear.pickle\",'wb') as file:\n",
    "        pickle.dump(data_sparced, file)\n",
    "        \n",
    "with Profiler():\n",
    "    with open(\"canonized_marked.pickle\",'wb') as file:\n",
    "        pickle.dump(data_sparced, file)\n",
    "'''\n",
    "Пример загрузки файла из пикла\n",
    "        \n",
    "with open(\"kfg\",'rb') as file:\n",
    "    asd = pickle.load(file)\n",
    "'''\n"
   ]
  }
 ],
 "metadata": {
  "kernelspec": {
   "display_name": "Python 3",
   "language": "python",
   "name": "python3"
  },
  "language_info": {
   "codemirror_mode": {
    "name": "ipython",
    "version": 3
   },
   "file_extension": ".py",
   "mimetype": "text/x-python",
   "name": "python",
   "nbconvert_exporter": "python",
   "pygments_lexer": "ipython3",
   "version": "3.6.3"
  }
 },
 "nbformat": 4,
 "nbformat_minor": 2
}
