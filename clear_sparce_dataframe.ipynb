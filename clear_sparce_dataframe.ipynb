{
 "cells": [
  {
   "cell_type": "markdown",
   "metadata": {},
   "source": [
    "# YANDEX ML"
   ]
  },
  {
   "cell_type": "code",
   "execution_count": 34,
   "metadata": {},
   "outputs": [],
   "source": [
    "import pandas as pd\n",
    "import pymorphy2\n",
    "from  TextPreprocessing import TextPreprocessing\n",
    "import pickle\n",
    "from  profiler import Profiler"
   ]
  },
  {
   "cell_type": "code",
   "execution_count": 35,
   "metadata": {},
   "outputs": [],
   "source": [
    "df = pd.read_csv('train.tsv',\n",
    "                         names=['context_id', 'context_2', 'context_1', 'context_0', 'reply_id', 'reply',\n",
    "                                'label', 'confidence'],\n",
    "                        header=None, sep='\\t')"
   ]
  },
  {
   "cell_type": "code",
   "execution_count": 54,
   "metadata": {
    "scrolled": true
   },
   "outputs": [
    {
     "name": "stdout",
     "output_type": "stream",
     "text": [
      "мое имя дали мне родители .\n",
      "мое имя дали мне родители .\n",
      "мое имя дали мне родители .\n",
      "мое имя дали мне родители .\n",
      "мое имя дали мне родители .\n",
      "мое имя дали мне родители .\n",
      "плавали - знаем .\n",
      "плавали - знаем .\n",
      "плавали - знаем .\n",
      "плавали - знаем .\n",
      "плавали - знаем .\n"
     ]
    }
   ],
   "source": [
    "\n",
    "for line in df.values[49:60]:\n",
    "    print(line[3])\n"
   ]
  },
  {
   "cell_type": "code",
   "execution_count": 18,
   "metadata": {},
   "outputs": [],
   "source": [
    "df_sparce = []\n",
    "col_name = ['context_0','context_1','context_2']\n",
    "cont_indexes = [\n",
    "    pd.isnull(df['context_2']) & pd.isnull(df['context_1']),\n",
    "    pd.isnull(df['context_2']) & pd.notnull(df['context_1']),\n",
    "    pd.notnull(df['context_2']) & pd.notnull(df['context_1'])\n",
    "]\n",
    "# Один контекст\n",
    "df_sparce.append(df[cont_indexes[0]])\n",
    "\n",
    "# Два контекста\n",
    "df_sparce.append(df[cont_indexes[1]])\n",
    "\n",
    "# Три контекста\n",
    "df_sparce.append(df[cont_indexes[2]])"
   ]
  },
  {
   "cell_type": "code",
   "execution_count": 32,
   "metadata": {},
   "outputs": [
    {
     "name": "stdout",
     "output_type": "stream",
     "text": [
      "\n"
     ]
    },
    {
     "name": "stderr",
     "output_type": "stream",
     "text": [
      "C:\\ProgramData\\Anaconda3\\lib\\site-packages\\ipykernel_launcher.py:18: SettingWithCopyWarning: \n",
      "A value is trying to be set on a copy of a slice from a DataFrame.\n",
      "Try using .loc[row_indexer,col_indexer] = value instead\n",
      "\n",
      "See the caveats in the documentation: http://pandas.pydata.org/pandas-docs/stable/indexing.html#indexing-view-versus-copy\n"
     ]
    },
    {
     "name": "stdout",
     "output_type": "stream",
     "text": [
      "Затраченное время: 85.97525143623352\n"
     ]
    }
   ],
   "source": [
    "tp = TextPreprocessing()\n",
    "col_amount = 0\n",
    "\n",
    "'''\n",
    "data_sparced - Список датафреймов\n",
    "len(data_sparced) = 3\n",
    "Каждый элемент списка - подвыборка исходного датафрейма\n",
    "data_sparced[0] - подвыбока, содержащая только один контекст\n",
    "data_sparced[1] - подвыбока, содержащая два контекста\n",
    "data_sparced[2] - подвыбока, содержащая три контекста\n",
    "'''\n",
    "data_sparced = []\n",
    "data_sparced_clear = []\n",
    "with Profiler():\n",
    "    for df_part in df_sparce:\n",
    "        data_sparced.append(df[cont_indexes[col_amount]])\n",
    "        data_sparced_clear.append(df[cont_indexes[col_amount]])\n",
    "        for i in range(col_amount+1):\n",
    "            prep_col = df_part[col_name[i]].map(tp.preprocess_sentence)\n",
    "            data_sparced[col_amount][col_name[i]] = prep_col\n",
    "            \n",
    "            prep_col_clear = df_part[col_name[i]].map(tp.preprocess_sentence)\n",
    "            data_sparced[col_amount][col_name[i]] = prep_col_clear\n",
    "        col_amount+=1"
   ]
  },
  {
   "cell_type": "code",
   "execution_count": 25,
   "metadata": {},
   "outputs": [
    {
     "data": {
      "text/html": [
       "<div>\n",
       "<style scoped>\n",
       "    .dataframe tbody tr th:only-of-type {\n",
       "        vertical-align: middle;\n",
       "    }\n",
       "\n",
       "    .dataframe tbody tr th {\n",
       "        vertical-align: top;\n",
       "    }\n",
       "\n",
       "    .dataframe thead th {\n",
       "        text-align: right;\n",
       "    }\n",
       "</style>\n",
       "<table border=\"1\" class=\"dataframe\">\n",
       "  <thead>\n",
       "    <tr style=\"text-align: right;\">\n",
       "      <th></th>\n",
       "      <th>context_id</th>\n",
       "      <th>context_2</th>\n",
       "      <th>context_1</th>\n",
       "      <th>context_0</th>\n",
       "      <th>reply_id</th>\n",
       "      <th>reply</th>\n",
       "      <th>label</th>\n",
       "      <th>confidence</th>\n",
       "    </tr>\n",
       "  </thead>\n",
       "  <tbody>\n",
       "    <tr>\n",
       "      <th>61</th>\n",
       "      <td>300113641606</td>\n",
       "      <td>NaN</td>\n",
       "      <td>[это_PART]</td>\n",
       "      <td>[хотя_CCONJ]</td>\n",
       "      <td>0</td>\n",
       "      <td>тише .</td>\n",
       "      <td>good</td>\n",
       "      <td>0.9291954342</td>\n",
       "    </tr>\n",
       "    <tr>\n",
       "      <th>62</th>\n",
       "      <td>300113641606</td>\n",
       "      <td>NaN</td>\n",
       "      <td>[это_PART]</td>\n",
       "      <td>[хотя_CCONJ]</td>\n",
       "      <td>1</td>\n",
       "      <td>я в &lt;CENSORED&gt; .</td>\n",
       "      <td>bad</td>\n",
       "      <td>0.9949661191</td>\n",
       "    </tr>\n",
       "    <tr>\n",
       "      <th>63</th>\n",
       "      <td>300113641606</td>\n",
       "      <td>NaN</td>\n",
       "      <td>[это_PART]</td>\n",
       "      <td>[хотя_CCONJ]</td>\n",
       "      <td>2</td>\n",
       "      <td>наверное это не важно .</td>\n",
       "      <td>good</td>\n",
       "      <td>0.7296121132</td>\n",
       "    </tr>\n",
       "    <tr>\n",
       "      <th>64</th>\n",
       "      <td>300113641606</td>\n",
       "      <td>NaN</td>\n",
       "      <td>[это_PART]</td>\n",
       "      <td>[хотя_CCONJ]</td>\n",
       "      <td>3</td>\n",
       "      <td>все в порядке , женщина .</td>\n",
       "      <td>good</td>\n",
       "      <td>0.8377676781</td>\n",
       "    </tr>\n",
       "    <tr>\n",
       "      <th>65</th>\n",
       "      <td>300113641606</td>\n",
       "      <td>NaN</td>\n",
       "      <td>[это_PART]</td>\n",
       "      <td>[хотя_CCONJ]</td>\n",
       "      <td>4</td>\n",
       "      <td>что ?</td>\n",
       "      <td>neutral</td>\n",
       "      <td>0.9838724208</td>\n",
       "    </tr>\n",
       "  </tbody>\n",
       "</table>\n",
       "</div>"
      ],
      "text/plain": [
       "      context_id context_2   context_1     context_0 reply_id  \\\n",
       "61  300113641606       NaN  [это_PART]  [хотя_CCONJ]        0   \n",
       "62  300113641606       NaN  [это_PART]  [хотя_CCONJ]        1   \n",
       "63  300113641606       NaN  [это_PART]  [хотя_CCONJ]        2   \n",
       "64  300113641606       NaN  [это_PART]  [хотя_CCONJ]        3   \n",
       "65  300113641606       NaN  [это_PART]  [хотя_CCONJ]        4   \n",
       "\n",
       "                        reply    label    confidence  \n",
       "61                     тише .     good  0.9291954342  \n",
       "62           я в <CENSORED> .      bad  0.9949661191  \n",
       "63    наверное это не важно .     good  0.7296121132  \n",
       "64  все в порядке , женщина .     good  0.8377676781  \n",
       "65                      что ?  neutral  0.9838724208  "
      ]
     },
     "execution_count": 25,
     "metadata": {},
     "output_type": "execute_result"
    }
   ],
   "source": [
    "data_sparced[1].head()"
   ]
  },
  {
   "cell_type": "code",
   "execution_count": 26,
   "metadata": {},
   "outputs": [
    {
     "data": {
      "text/html": [
       "<div>\n",
       "<style scoped>\n",
       "    .dataframe tbody tr th:only-of-type {\n",
       "        vertical-align: middle;\n",
       "    }\n",
       "\n",
       "    .dataframe tbody tr th {\n",
       "        vertical-align: top;\n",
       "    }\n",
       "\n",
       "    .dataframe thead th {\n",
       "        text-align: right;\n",
       "    }\n",
       "</style>\n",
       "<table border=\"1\" class=\"dataframe\">\n",
       "  <thead>\n",
       "    <tr style=\"text-align: right;\">\n",
       "      <th></th>\n",
       "      <th>context_id</th>\n",
       "      <th>context_2</th>\n",
       "      <th>context_1</th>\n",
       "      <th>context_0</th>\n",
       "      <th>reply_id</th>\n",
       "      <th>reply</th>\n",
       "      <th>label</th>\n",
       "      <th>confidence</th>\n",
       "    </tr>\n",
       "  </thead>\n",
       "  <tbody>\n",
       "    <tr>\n",
       "      <th>0</th>\n",
       "      <td>22579918886</td>\n",
       "      <td>[кликнуть_VERB, надпись_NOUN, видео_NOUN, звон...</td>\n",
       "      <td>[видеть_VERB]</td>\n",
       "      <td>[ладный_ADJ, повесить_VERB, трубка_NOUN]</td>\n",
       "      <td>0</td>\n",
       "      <td>не могу .</td>\n",
       "      <td>good</td>\n",
       "      <td>0.8753516175</td>\n",
       "    </tr>\n",
       "    <tr>\n",
       "      <th>1</th>\n",
       "      <td>22579918886</td>\n",
       "      <td>[кликнуть_VERB, надпись_NOUN, видео_NOUN, звон...</td>\n",
       "      <td>[видеть_VERB]</td>\n",
       "      <td>[ладный_ADJ, повесить_VERB, трубка_NOUN]</td>\n",
       "      <td>1</td>\n",
       "      <td>нет , звонить буду я .</td>\n",
       "      <td>neutral</td>\n",
       "      <td>0.9009682113</td>\n",
       "    </tr>\n",
       "    <tr>\n",
       "      <th>2</th>\n",
       "      <td>22579918886</td>\n",
       "      <td>[кликнуть_VERB, надпись_NOUN, видео_NOUN, звон...</td>\n",
       "      <td>[видеть_VERB]</td>\n",
       "      <td>[ладный_ADJ, повесить_VERB, трубка_NOUN]</td>\n",
       "      <td>2</td>\n",
       "      <td>слушай , я не мог уйти .</td>\n",
       "      <td>bad</td>\n",
       "      <td>0.8843202145</td>\n",
       "    </tr>\n",
       "    <tr>\n",
       "      <th>3</th>\n",
       "      <td>22579918886</td>\n",
       "      <td>[кликнуть_VERB, надпись_NOUN, видео_NOUN, звон...</td>\n",
       "      <td>[видеть_VERB]</td>\n",
       "      <td>[ладный_ADJ, повесить_VERB, трубка_NOUN]</td>\n",
       "      <td>3</td>\n",
       "      <td>я не прекращу звонить .</td>\n",
       "      <td>good</td>\n",
       "      <td>0.9825304673</td>\n",
       "    </tr>\n",
       "    <tr>\n",
       "      <th>4</th>\n",
       "      <td>22579918886</td>\n",
       "      <td>[кликнуть_VERB, надпись_NOUN, видео_NOUN, звон...</td>\n",
       "      <td>[видеть_VERB]</td>\n",
       "      <td>[ладный_ADJ, повесить_VERB, трубка_NOUN]</td>\n",
       "      <td>4</td>\n",
       "      <td>я звоню им .</td>\n",
       "      <td>good</td>\n",
       "      <td>0.8380535096</td>\n",
       "    </tr>\n",
       "  </tbody>\n",
       "</table>\n",
       "</div>"
      ],
      "text/plain": [
       "    context_id                                          context_2  \\\n",
       "0  22579918886  [кликнуть_VERB, надпись_NOUN, видео_NOUN, звон...   \n",
       "1  22579918886  [кликнуть_VERB, надпись_NOUN, видео_NOUN, звон...   \n",
       "2  22579918886  [кликнуть_VERB, надпись_NOUN, видео_NOUN, звон...   \n",
       "3  22579918886  [кликнуть_VERB, надпись_NOUN, видео_NOUN, звон...   \n",
       "4  22579918886  [кликнуть_VERB, надпись_NOUN, видео_NOUN, звон...   \n",
       "\n",
       "       context_1                                 context_0 reply_id  \\\n",
       "0  [видеть_VERB]  [ладный_ADJ, повесить_VERB, трубка_NOUN]        0   \n",
       "1  [видеть_VERB]  [ладный_ADJ, повесить_VERB, трубка_NOUN]        1   \n",
       "2  [видеть_VERB]  [ладный_ADJ, повесить_VERB, трубка_NOUN]        2   \n",
       "3  [видеть_VERB]  [ладный_ADJ, повесить_VERB, трубка_NOUN]        3   \n",
       "4  [видеть_VERB]  [ладный_ADJ, повесить_VERB, трубка_NOUN]        4   \n",
       "\n",
       "                      reply    label    confidence  \n",
       "0                 не могу .     good  0.8753516175  \n",
       "1    нет , звонить буду я .  neutral  0.9009682113  \n",
       "2  слушай , я не мог уйти .      bad  0.8843202145  \n",
       "3   я не прекращу звонить .     good  0.9825304673  \n",
       "4              я звоню им .     good  0.8380535096  "
      ]
     },
     "execution_count": 26,
     "metadata": {},
     "output_type": "execute_result"
    }
   ],
   "source": [
    "data_sparced[1].head()"
   ]
  },
  {
   "cell_type": "code",
   "execution_count": 33,
   "metadata": {},
   "outputs": [
    {
     "name": "stdout",
     "output_type": "stream",
     "text": [
      "Затраченное время: 0.5526418685913086\n"
     ]
    },
    {
     "data": {
      "text/plain": [
       "'\\nПример загрузки файла из пикла\\n'"
      ]
     },
     "execution_count": 33,
     "metadata": {},
     "output_type": "execute_result"
    }
   ],
   "source": [
    "with Profiler():\n",
    "    with open(\"canonized_clear.pickle\",'wb') as file:\n",
    "        pickle.dump(data_sparced, file)\n",
    "        \n",
    "with Profiler():\n",
    "    with open(\"canonized_marked.pickle\",'wb') as file:\n",
    "        pickle.dump(data_sparced, file)\n",
    "'''\n",
    "Пример загрузки файла из пикла\n",
    "        \n",
    "with open(\"kfg\",'rb') as file:\n",
    "    asd = pickle.load(file)\n",
    "'''\n"
   ]
  }
 ],
 "metadata": {
  "kernelspec": {
   "display_name": "Python 3",
   "language": "python",
   "name": "python3"
  },
  "language_info": {
   "codemirror_mode": {
    "name": "ipython",
    "version": 3
   },
   "file_extension": ".py",
   "mimetype": "text/x-python",
   "name": "python",
   "nbconvert_exporter": "python",
   "pygments_lexer": "ipython3",
   "version": "3.6.4"
  }
 },
 "nbformat": 4,
 "nbformat_minor": 2
}
