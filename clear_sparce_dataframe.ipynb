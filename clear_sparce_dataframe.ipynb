{
 "cells": [
  {
   "cell_type": "markdown",
   "metadata": {},
   "source": [
    "# YANDEX ML"
   ]
  },
  {
   "cell_type": "code",
   "execution_count": 33,
   "metadata": {},
   "outputs": [],
   "source": [
    "import pandas as pd\n",
    "import pymorphy2\n",
    "from  text_preprocess2 import TextPreprocessor\n",
    "import pickle\n",
    "from  profiler import Profiler\n",
    "import sklearn.cross_validation\n",
    "import numpy as np"
   ]
  },
  {
   "cell_type": "code",
   "execution_count": 34,
   "metadata": {},
   "outputs": [],
   "source": [
    "df = pd.read_csv('train.tsv',\n",
    "                         names=['context_id', 'context_2', 'context_1', 'context_0', 'reply_id', 'reply',\n",
    "                                'label', 'confidence'],\n",
    "                        header=None, sep='\\t')"
   ]
  },
  {
   "cell_type": "code",
   "execution_count": 37,
   "metadata": {
    "scrolled": true
   },
   "outputs": [
    {
     "name": "stdout",
     "output_type": "stream",
     "text": [
      "[    22579918886     72855813972     76323501777 ... 281428817239034\n",
      " 281442741987260 281445178379747]\n"
     ]
    }
   ],
   "source": [
    "idies = np.array(sorted(list(set(df['context_id']))))\n",
    "n = len(idies)\n",
    "kf = sklearn.cross_validation.KFold (n = n,\n",
    "                   n_folds = 4,\n",
    "                   shuffle = True,\n",
    "                   random_state = 40)\n",
    "a = np.array([0,1,2,3,4,5,6,7,8,9])\n",
    "for train_index, test_index in kf:\n",
    "    X_train = idies[train_index]\n",
    "    y_test = idies[test_index]"
   ]
  },
  {
   "cell_type": "code",
   "execution_count": null,
   "metadata": {},
   "outputs": [],
   "source": []
  },
  {
   "cell_type": "code",
   "execution_count": null,
   "metadata": {},
   "outputs": [],
   "source": []
  },
  {
   "cell_type": "code",
   "execution_count": null,
   "metadata": {},
   "outputs": [],
   "source": []
  },
  {
   "cell_type": "code",
   "execution_count": null,
   "metadata": {},
   "outputs": [],
   "source": []
  },
  {
   "cell_type": "code",
   "execution_count": null,
   "metadata": {},
   "outputs": [],
   "source": [
    "\n"
   ]
  }
 ],
 "metadata": {
  "kernelspec": {
   "display_name": "Python 3",
   "language": "python",
   "name": "python3"
  },
  "language_info": {
   "codemirror_mode": {
    "name": "ipython",
    "version": 3
   },
   "file_extension": ".py",
   "mimetype": "text/x-python",
   "name": "python",
   "nbconvert_exporter": "python",
   "pygments_lexer": "ipython3",
   "version": "3.6.4"
  }
 },
 "nbformat": 4,
 "nbformat_minor": 2
}
