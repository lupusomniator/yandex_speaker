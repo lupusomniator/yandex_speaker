{
 "cells": [
  {
   "cell_type": "code",
   "execution_count": 132,
   "metadata": {
    "collapsed": true
   },
   "outputs": [],
   "source": [
    "import pickle\n",
    "import pandas as pd\n",
    "import numpy as np\n",
    "from gensim import corpora, models"
   ]
  },
  {
   "cell_type": "code",
   "execution_count": 133,
   "metadata": {},
   "outputs": [],
   "source": [
    "with open(\"canonized_clear_text.pickle\", \"rb\") as file:\n",
    "    asd = pickle.load(file)"
   ]
  },
  {
   "cell_type": "code",
   "execution_count": 134,
   "metadata": {},
   "outputs": [],
   "source": [
    "asd[0] = asd[0][pd.notnull(asd[0].label)]"
   ]
  },
  {
   "cell_type": "code",
   "execution_count": 135,
   "metadata": {},
   "outputs": [],
   "source": [
    "asd[1] = asd[1][pd.notnull(asd[1].label)]"
   ]
  },
  {
   "cell_type": "code",
   "execution_count": 136,
   "metadata": {
    "collapsed": true
   },
   "outputs": [],
   "source": [
    "asd[2] = asd[2][pd.notnull(asd[2].label)]"
   ]
  },
  {
   "cell_type": "code",
   "execution_count": 137,
   "metadata": {},
   "outputs": [],
   "source": [
    "asd[0].reply.replace('', np.nan, inplace=True)\n",
    "asd[1].reply.replace('', np.nan, inplace=True)\n",
    "asd[2].reply.replace('', np.nan, inplace=True)"
   ]
  },
  {
   "cell_type": "code",
   "execution_count": 138,
   "metadata": {},
   "outputs": [],
   "source": [
    "asd[0] = asd[0][pd.notnull(asd[0].reply)]\n",
    "asd[1] = asd[1][pd.notnull(asd[1].reply)]\n",
    "asd[2] = asd[2][pd.notnull(asd[2].reply)]"
   ]
  },
  {
   "cell_type": "code",
   "execution_count": 145,
   "metadata": {},
   "outputs": [
    {
     "data": {
      "text/plain": [
       "context_id    20825\n",
       "context_2         0\n",
       "context_1         0\n",
       "context_0     20825\n",
       "reply_id      20825\n",
       "reply         20825\n",
       "label         20825\n",
       "confidence    20825\n",
       "dtype: int64"
      ]
     },
     "execution_count": 145,
     "metadata": {},
     "output_type": "execute_result"
    }
   ],
   "source": [
    "asd[0].count()"
   ]
  },
  {
   "cell_type": "code",
   "execution_count": 146,
   "metadata": {},
   "outputs": [
    {
     "data": {
      "text/plain": [
       "context_id    20777\n",
       "context_2         0\n",
       "context_1     20777\n",
       "context_0     20777\n",
       "reply_id      20777\n",
       "reply         20777\n",
       "label         20777\n",
       "confidence    20777\n",
       "dtype: int64"
      ]
     },
     "execution_count": 146,
     "metadata": {},
     "output_type": "execute_result"
    }
   ],
   "source": [
    "asd[1].count()"
   ]
  },
  {
   "cell_type": "code",
   "execution_count": 148,
   "metadata": {},
   "outputs": [
    {
     "data": {
      "text/plain": [
       "context_id    42672\n",
       "context_2     42672\n",
       "context_1     42672\n",
       "context_0     42672\n",
       "reply_id      42672\n",
       "reply         42672\n",
       "label         42672\n",
       "confidence    42672\n",
       "dtype: int64"
      ]
     },
     "execution_count": 148,
     "metadata": {},
     "output_type": "execute_result"
    }
   ],
   "source": [
    "asd[2].count()"
   ]
  },
  {
   "cell_type": "code",
   "execution_count": 149,
   "metadata": {
    "collapsed": true
   },
   "outputs": [],
   "source": [
    "with open ('SUPER_CLEAN_DATA.pickle', 'wb') as file:\n",
    "    pickle.dump(asd, file)"
   ]
  }
 ],
 "metadata": {
  "kernelspec": {
   "display_name": "Python 3",
   "language": "python",
   "name": "python3"
  },
  "language_info": {
   "codemirror_mode": {
    "name": "ipython",
    "version": 3
   },
   "file_extension": ".py",
   "mimetype": "text/x-python",
   "name": "python",
   "nbconvert_exporter": "python",
   "pygments_lexer": "ipython3",
   "version": "3.6.3"
  }
 },
 "nbformat": 4,
 "nbformat_minor": 2
}
